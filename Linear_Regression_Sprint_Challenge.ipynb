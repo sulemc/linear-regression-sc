{
  "nbformat": 4,
  "nbformat_minor": 0,
  "metadata": {
    "colab": {
      "name": "Linear Regression Sprint Challenge.ipynb",
      "version": "0.3.2",
      "provenance": [],
      "collapsed_sections": [],
      "include_colab_link": true
    },
    "kernelspec": {
      "name": "python3",
      "display_name": "Python 3"
    }
  },
  "cells": [
    {
      "cell_type": "markdown",
      "metadata": {
        "id": "view-in-github",
        "colab_type": "text"
      },
      "source": [
        "[View in Colaboratory](https://colab.research.google.com/github/sulemc/linear-regression-sc/blob/master/Linear_Regression_Sprint_Challenge.ipynb)"
      ]
    },
    {
      "metadata": {
        "id": "aD8Yb0P8D04e",
        "colab_type": "text"
      },
      "cell_type": "markdown",
      "source": [
        "# Linear Regression Sprint Challenge\n",
        "\n",
        "Objectives:\n",
        "* Linear regression: the simplest ML model\n",
        "* Use gradient descent to compute LR\n",
        "* Predict a vertex v_i\n",
        "* Use the matrix form to compute linear regression"
      ]
    },
    {
      "metadata": {
        "id": "YP55JnJGEXWN",
        "colab_type": "code",
        "colab": {}
      },
      "cell_type": "code",
      "source": [
        "# Linear Regression is the simplest ML model because:"
      ],
      "execution_count": 0,
      "outputs": []
    },
    {
      "metadata": {
        "id": "aq9MJvtTE6lY",
        "colab_type": "text"
      },
      "cell_type": "markdown",
      "source": [
        "### 2. Compute Linear Regression Model\n",
        "\n",
        "Use sklearn.linear_model.LogisticRegression to calculate the linear least-squares best fit minimizing $\\sum{(w_0x + w_1)-y)^2}$."
      ]
    },
    {
      "metadata": {
        "id": "I8nqyUEREiil",
        "colab_type": "code",
        "colab": {}
      },
      "cell_type": "code",
      "source": [
        "import numpy as np\n",
        "x = np.array([0,1,2,3,4])\n",
        "y = np.array([-1,2,5,5,9])\n",
        "\n",
        "# Compute LR\n",
        "\n",
        "# Print coefficients"
      ],
      "execution_count": 0,
      "outputs": []
    },
    {
      "metadata": {
        "id": "jSfpHHfJFPc5",
        "colab_type": "text"
      },
      "cell_type": "markdown",
      "source": [
        "### 3. Predict the vertex value $y_i = f(v_i)$"
      ]
    },
    {
      "metadata": {
        "id": "x3K306_pFUQc",
        "colab_type": "code",
        "colab": {}
      },
      "cell_type": "code",
      "source": [
        "v = [7,2]\n",
        "\n",
        "# Use the model above to predict y_i here\n",
        "\n",
        "# Print y"
      ],
      "execution_count": 0,
      "outputs": []
    },
    {
      "metadata": {
        "id": "nDEdBrtYFjEr",
        "colab_type": "text"
      },
      "cell_type": "markdown",
      "source": [
        "### 4. Use the matrix form to compute Linear Regression\n",
        "\n",
        "The analytic solution to Linear Least Squares Regression:\n",
        "\n",
        "$(X^TX)^{-1}X^Ty = X^Tx$"
      ]
    },
    {
      "metadata": {
        "id": "B73O-XcrF9Wd",
        "colab_type": "code",
        "colab": {}
      },
      "cell_type": "code",
      "source": [
        "# Compute the above equation for x and y\n",
        "\n",
        "# Print the coefficients produced from this method, which should be equal to\n",
        "# the coefficients above."
      ],
      "execution_count": 0,
      "outputs": []
    }
  ]
}